{
 "cells": [
  {
   "cell_type": "code",
   "execution_count": null,
   "id": "513f4a37",
   "metadata": {},
   "outputs": [],
   "source": [
    "import requests\n",
    "import datetime\n",
    "import time\n",
    "import pymysql\n",
    "from datetime import datetime"
   ]
  },
  {
   "cell_type": "code",
   "execution_count": null,
   "id": "7ae90f30",
   "metadata": {},
   "outputs": [],
   "source": [
    "# Définition d'une fonction de tranformation automatique des timestamps en date :\n",
    "\n",
    "def get_timestamp(date_str):    # Convertit une date en timestamp (millisecondes)\n",
    "    dt = datetime.strptime(date_str, \"%Y-%m-%d\")\n",
    "    return int(dt.timestamp() * 1000)"
   ]
  },
  {
   "cell_type": "code",
   "execution_count": null,
   "id": "84f56be4",
   "metadata": {},
   "outputs": [],
   "source": [
    "# Création d'une liste de dates en granularité mensuelle pour l'implémenter dans les requêtes (à modifier à patir des imports en minutes) :\n",
    "\n",
    "start_date = datetime(2017, 1, 1)\n",
    "end_date = datetime(2025, 6, 1) # La end_date est exclue du rapatriement des données -> 2025/6/1 implique que la dernière date sera 2025/5/31.\n",
    "\n",
    "date_list = []\n",
    "current_date = start_date\n",
    "\n",
    "while current_date <= end_date:\n",
    "    date_list.append(current_date.strftime(\"%Y-%m-%d\")) # A PARTIR DE L4ECHERLLE HEURE, MODIFIER current_date.strftime(\"%Y-%m-%d\") PAR current_date.strftime(\"%Y-%m-%d %H:%M:%S\")\n",
    "    next_month = current_date.month + 1\n",
    "    next_year = current_date.year + (next_month // 12)\n",
    "    next_month = next_month % 12 or 12  # Gère le passage à décembre\n",
    "    current_date = datetime(next_year, next_month, 1)\n"
   ]
  },
  {
   "cell_type": "code",
   "execution_count": null,
   "id": "c7239df2",
   "metadata": {},
   "outputs": [],
   "source": [
    "# Récupération données en jour :\n",
    "\n",
    "conn = pymysql.connect(\n",
    "    host=\"localhost\",\n",
    "    user=\"root\",\n",
    "    password=\"RENSEIGNEZ VOTRE MOT DE PASSE MySQL*\",\n",
    "    database=\"RENSEIGNEZ LE NOM DE VOTRE BASE DE DONNEES\"\n",
    "        )\n",
    "cursor = conn.cursor()\n",
    "\n",
    "for i in range(len(date_list) - 1):\n",
    "    url = f\"https://api.binance.com/api/v3/klines?symbol=BTCUSDC&interval=1d&startTime={get_timestamp(date_list[i])}&endTime={get_timestamp(date_list[i+1])}\"\n",
    "    response = requests.get(url)\n",
    "    data = response.json()\n",
    "    \n",
    "    if data:\n",
    "        values = []   \n",
    "        for day in data:\n",
    "            date = datetime.fromtimestamp(day[0] / 1000).strftime('%Y-%m-%d') # FORMAT stftime() à modifier à partir de l'échelle HEURE pour intégrer les heures, minutes et secondes (\"%Y-%m-%d %H:%M:%S\")\n",
    "            open_price, high_price, low_price, close_price, volume = day[1], day[2], day[3], day[4], day[5]\n",
    "            values.append((date, open_price, high_price, low_price, close_price, volume))\n",
    "            \n",
    "        cursor.executemany(\"\"\"\n",
    "            INSERT INTO #RENSEIGNEZ LE NOM DE LA TABLE DE DESTINATION# (date, open, high, low, close, volume)\n",
    "            VALUES (%s, %s, %s, %s, %s, %s)\n",
    "            \"\"\", values)\n",
    "        conn.commit()\n",
    "        \n",
    "    time.sleep(2)\n",
    "\n",
    "cursor.close()\n",
    "conn.close()\n",
    "\n",
    "print(\"Mise à jour terminée !\")"
   ]
  },
  {
   "cell_type": "markdown",
   "id": "56ffa9a8",
   "metadata": {},
   "source": [
    "##  Code pour récupérer les données à partir de l'échelle MINUTE"
   ]
  },
  {
   "cell_type": "code",
   "execution_count": null,
   "id": "e70ae9a1",
   "metadata": {},
   "outputs": [],
   "source": [
    "from datetime import datetime, timedelta"
   ]
  },
  {
   "cell_type": "code",
   "execution_count": null,
   "id": "71af45f5",
   "metadata": {},
   "outputs": [],
   "source": [
    "def get_timestamp1(date_str):    # Convertit une date en timestamp (millisecondes)\n",
    "    dt = datetime.strptime(date_str, \"%Y-%m-%d %H:%M:%S\")\n",
    "    return int(dt.timestamp() * 1000)"
   ]
  },
  {
   "cell_type": "code",
   "execution_count": null,
   "id": "5249a22a",
   "metadata": {},
   "outputs": [],
   "source": [
    "start_date = datetime(2017, 1, 1, 0, 0, 0)\n",
    "end_date = datetime(2025, 6, 16, 0, 0, 0)\n",
    "\n",
    "date_list = []\n",
    "current_date = start_date\n",
    "\n",
    "while current_date <= end_date:\n",
    "    date_list.append(current_date.strftime(\"%Y-%m-%d %H:%M:%S\"))  # Ajout avec heures et secondes\n",
    "    current_date += timedelta(hours=1)  # Step de 1h"
   ]
  },
  {
   "cell_type": "code",
   "execution_count": null,
   "id": "133d35c8",
   "metadata": {},
   "outputs": [],
   "source": [
    "conn = pymysql.connect(\n",
    "    host=\"localhost\",\n",
    "    user=\"RENSEIGNEZ VOTRE NOM D'UTILISATEUR MySQL\",\n",
    "    password=\"RENSEIGNEZ VOTRE MOT DE PASSE MySQL\",\n",
    "    database=\"RENSEIGNEZ LE NOM DE VOTRE BASE DE DONNEES\"\n",
    "        )\n",
    "cursor = conn.cursor()\n",
    "\n",
    "for i in range(len(date_list) - 1):\n",
    "    url = f\"https://api.binance.com/api/v3/klines?symbol=BTCUSDC&interval=1m&startTime={get_timestamp1(date_list[i])}&endTime={get_timestamp1(date_list[i+1])}\"\n",
    "    response = requests.get(url)\n",
    "    data = response.json()\n",
    "    \n",
    "    if data:\n",
    "        values = []   \n",
    "        for day in data:\n",
    "            date = datetime.fromtimestamp(day[0] / 1000).strftime('%Y-%m-%d %H:%M:%S')\n",
    "            open_price, high_price, low_price, close_price, volume = day[1], day[2], day[3], day[4], day[5]\n",
    "            values.append((date, open_price, high_price, low_price, close_price, volume))\n",
    "            \n",
    "        cursor.executemany(\"\"\"\n",
    "            INSERT INTO #RENSEIGNEZ LE NOM DE LA TABLE DE DESTINATION# (date, open, high, low, close, volume)\n",
    "            VALUES (%s, %s, %s, %s, %s, %s)\n",
    "            ON DUPLICATE KEY UPDATE open=VALUES(open), high=VALUES(high), low=VALUES(low), close=VALUES(close), volume=VALUES(volume);\n",
    "            \"\"\", values)\n",
    "        conn.commit()\n",
    "        \n",
    "    time.sleep(2)\n",
    "\n",
    "cursor.close()\n",
    "conn.close()\n",
    "\n",
    "print(\"Mise à jour terminée !\")"
   ]
  }
 ],
 "metadata": {
  "language_info": {
   "name": "python"
  }
 },
 "nbformat": 4,
 "nbformat_minor": 5
}
